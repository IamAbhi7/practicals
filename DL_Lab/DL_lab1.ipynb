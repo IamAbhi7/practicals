{
 "cells": [
  {
   "cell_type": "code",
   "execution_count": 3,
   "id": "b3b73ed1",
   "metadata": {},
   "outputs": [],
   "source": [
    "#Import libraries\n",
    "import numpy as np\n",
    "import pandas as pd\n",
    "import tensorflow as tf\n",
    "from sklearn.datasets import load_boston\n",
    "from sklearn.model_selection import train_test_split\n",
    "from sklearn.preprocessing import StandardScaler"
   ]
  },
  {
   "cell_type": "code",
   "execution_count": 4,
   "id": "55cddfa3",
   "metadata": {},
   "outputs": [
    {
     "name": "stderr",
     "output_type": "stream",
     "text": [
      "C:\\Users\\acer\\anaconda3\\lib\\site-packages\\sklearn\\utils\\deprecation.py:87: FutureWarning: Function load_boston is deprecated; `load_boston` is deprecated in 1.0 and will be removed in 1.2.\n",
      "\n",
      "    The Boston housing prices dataset has an ethical problem. You can refer to\n",
      "    the documentation of this function for further details.\n",
      "\n",
      "    The scikit-learn maintainers therefore strongly discourage the use of this\n",
      "    dataset unless the purpose of the code is to study and educate about\n",
      "    ethical issues in data science and machine learning.\n",
      "\n",
      "    In this special case, you can fetch the dataset from the original\n",
      "    source::\n",
      "\n",
      "        import pandas as pd\n",
      "        import numpy as np\n",
      "\n",
      "\n",
      "        data_url = \"http://lib.stat.cmu.edu/datasets/boston\"\n",
      "        raw_df = pd.read_csv(data_url, sep=\"\\s+\", skiprows=22, header=None)\n",
      "        data = np.hstack([raw_df.values[::2, :], raw_df.values[1::2, :2]])\n",
      "        target = raw_df.values[1::2, 2]\n",
      "\n",
      "    Alternative datasets include the California housing dataset (i.e.\n",
      "    :func:`~sklearn.datasets.fetch_california_housing`) and the Ames housing\n",
      "    dataset. You can load the datasets as follows::\n",
      "\n",
      "        from sklearn.datasets import fetch_california_housing\n",
      "        housing = fetch_california_housing()\n",
      "\n",
      "    for the California housing dataset and::\n",
      "\n",
      "        from sklearn.datasets import fetch_openml\n",
      "        housing = fetch_openml(name=\"house_prices\", as_frame=True)\n",
      "\n",
      "    for the Ames housing dataset.\n",
      "    \n",
      "  warnings.warn(msg, category=FutureWarning)\n"
     ]
    }
   ],
   "source": [
    "# Load the Boston Housing dataset\n",
    "boston = load_boston()\n",
    "data = pd.DataFrame(boston.data, columns=boston.feature_names)  #remember feature_names\n",
    "target = pd.DataFrame(boston.target, columns=['PRICE'])"
   ]
  },
  {
   "cell_type": "code",
   "execution_count": 5,
   "id": "67534b67",
   "metadata": {},
   "outputs": [],
   "source": [
    "# Split the dataset into training and testing sets\n",
    "X_train, X_test, y_train, y_test = train_test_split(data, target, test_size=0.2, random_state=42) #remember parameters"
   ]
  },
  {
   "cell_type": "code",
   "execution_count": 6,
   "id": "84617fa6",
   "metadata": {},
   "outputs": [],
   "source": [
    "# Standardize the features\n",
    "scaler = StandardScaler()\n",
    "X_train_scaled = scaler.fit_transform(X_train)\n",
    "X_test_scaled = scaler.transform(X_test)"
   ]
  },
  {
   "cell_type": "code",
   "execution_count": 7,
   "id": "46c97245",
   "metadata": {},
   "outputs": [],
   "source": [
    "# Build the linear regression model using a deep neural network\n",
    "model = tf.keras.Sequential()\n",
    "model.add(tf.keras.layers.Dense(64, activation='relu', input_shape=(X_train_scaled.shape[1],))) #remember parameters\n",
    "model.add(tf.keras.layers.Dense(64, activation='relu'))\n",
    "model.add(tf.keras.layers.Dense(1))"
   ]
  },
  {
   "cell_type": "code",
   "execution_count": 8,
   "id": "624e078b",
   "metadata": {},
   "outputs": [],
   "source": [
    "# Compile the model\n",
    "model.compile(optimizer='adam', loss='mean_squared_error', metrics=['mse', 'mae'])"
   ]
  },
  {
   "cell_type": "code",
   "execution_count": 9,
   "id": "45484d18",
   "metadata": {},
   "outputs": [
    {
     "name": "stdout",
     "output_type": "stream",
     "text": [
      "Epoch 1/20\n",
      "13/13 [==============================] - 2s 3ms/step - loss: 565.6069 - mse: 565.6069 - mae: 21.8242\n",
      "Epoch 2/20\n",
      "13/13 [==============================] - 0s 3ms/step - loss: 505.7715 - mse: 505.7715 - mae: 20.3297\n",
      "Epoch 3/20\n",
      "13/13 [==============================] - 0s 2ms/step - loss: 422.9865 - mse: 422.9865 - mae: 18.1777\n",
      "Epoch 4/20\n",
      "13/13 [==============================] - 0s 2ms/step - loss: 315.7920 - mse: 315.7920 - mae: 15.1562\n",
      "Epoch 5/20\n",
      "13/13 [==============================] - 0s 3ms/step - loss: 194.5062 - mse: 194.5062 - mae: 11.3114\n",
      "Epoch 6/20\n",
      "13/13 [==============================] - 0s 4ms/step - loss: 112.1064 - mse: 112.1064 - mae: 8.2733\n",
      "Epoch 7/20\n",
      "13/13 [==============================] - 0s 4ms/step - loss: 73.0462 - mse: 73.0462 - mae: 6.6013\n",
      "Epoch 8/20\n",
      "13/13 [==============================] - 0s 4ms/step - loss: 52.3120 - mse: 52.3120 - mae: 5.5465\n",
      "Epoch 9/20\n",
      "13/13 [==============================] - 0s 8ms/step - loss: 38.3770 - mse: 38.3770 - mae: 4.6867\n",
      "Epoch 10/20\n",
      "13/13 [==============================] - 0s 8ms/step - loss: 31.1387 - mse: 31.1387 - mae: 4.1561\n",
      "Epoch 11/20\n",
      "13/13 [==============================] - 0s 8ms/step - loss: 27.0281 - mse: 27.0281 - mae: 3.8361\n",
      "Epoch 12/20\n",
      "13/13 [==============================] - 0s 8ms/step - loss: 24.8846 - mse: 24.8846 - mae: 3.6842\n",
      "Epoch 13/20\n",
      "13/13 [==============================] - 0s 8ms/step - loss: 23.0215 - mse: 23.0215 - mae: 3.5411\n",
      "Epoch 14/20\n",
      "13/13 [==============================] - 0s 8ms/step - loss: 21.8994 - mse: 21.8994 - mae: 3.4633\n",
      "Epoch 15/20\n",
      "13/13 [==============================] - 0s 8ms/step - loss: 20.7594 - mse: 20.7594 - mae: 3.3671\n",
      "Epoch 16/20\n",
      "13/13 [==============================] - 0s 8ms/step - loss: 19.9898 - mse: 19.9898 - mae: 3.2858\n",
      "Epoch 17/20\n",
      "13/13 [==============================] - 0s 8ms/step - loss: 19.3132 - mse: 19.3132 - mae: 3.2491\n",
      "Epoch 18/20\n",
      "13/13 [==============================] - 0s 4ms/step - loss: 18.5043 - mse: 18.5043 - mae: 3.1549\n",
      "Epoch 19/20\n",
      "13/13 [==============================] - 0s 7ms/step - loss: 17.8598 - mse: 17.8598 - mae: 3.0985\n",
      "Epoch 20/20\n",
      "13/13 [==============================] - 0s 5ms/step - loss: 17.4022 - mse: 17.4022 - mae: 3.0610\n"
     ]
    },
    {
     "data": {
      "text/plain": [
       "<keras.callbacks.History at 0x1dc8d496790>"
      ]
     },
     "execution_count": 9,
     "metadata": {},
     "output_type": "execute_result"
    }
   ],
   "source": [
    "# Train the model\n",
    "model.fit(X_train_scaled, y_train, epochs=20, batch_size=32, verbose=1)"
   ]
  },
  {
   "cell_type": "code",
   "execution_count": 10,
   "id": "1a6dc791",
   "metadata": {},
   "outputs": [
    {
     "name": "stdout",
     "output_type": "stream",
     "text": [
      "4/4 [==============================] - 0s 8ms/step - loss: 18.5414 - mse: 18.5414 - mae: 2.7299\n",
      "Test Loss: 18.541425704956055, Test MSE: 18.541425704956055, Test MAE: 2.729863166809082\n"
     ]
    }
   ],
   "source": [
    "# Evaluate the model\n",
    "loss, mse, mae = model.evaluate(X_test_scaled, y_test,verbose=1)\n",
    "print(f\"Test Loss: {loss}, Test MSE: {mse}, Test MAE: {mae}\")"
   ]
  },
  {
   "cell_type": "code",
   "execution_count": 10,
   "id": "31d2a618",
   "metadata": {},
   "outputs": [
    {
     "name": "stdout",
     "output_type": "stream",
     "text": [
      "4/4 [==============================] - 0s 6ms/step\n"
     ]
    }
   ],
   "source": [
    "# Make predictions\n",
    "y_pred = model.predict(X_test_scaled)"
   ]
  },
  {
   "cell_type": "code",
   "execution_count": 43,
   "id": "2364c946",
   "metadata": {},
   "outputs": [],
   "source": [
    "# Convert predictions and actual prices to DataFrame\n",
    "predictions = pd.DataFrame({'Predicted Price': y_pred.flatten(), 'Actual Price': y_test.values.flatten()}) #imp remember "
   ]
  },
  {
   "cell_type": "code",
   "execution_count": 26,
   "id": "ea74c474",
   "metadata": {},
   "outputs": [
    {
     "name": "stdout",
     "output_type": "stream",
     "text": [
      "     Predicted Price  Actual Price\n",
      "0          27.394201          23.6\n",
      "1          33.880688          32.4\n",
      "2          16.748610          13.6\n",
      "3          24.661991          22.8\n",
      "4          16.954052          16.1\n",
      "..               ...           ...\n",
      "97          8.627165          17.9\n",
      "98         10.683917           9.6\n",
      "99         15.410476          17.2\n",
      "100        24.094784          22.5\n",
      "101        22.018044          21.4\n",
      "\n",
      "[102 rows x 2 columns]\n"
     ]
    }
   ],
   "source": [
    "# Print the predicted and actual values\n",
    "print(predictions)"
   ]
  },
  {
   "cell_type": "code",
   "execution_count": 12,
   "id": "3f5fc25f",
   "metadata": {},
   "outputs": [
    {
     "name": "stdout",
     "output_type": "stream",
     "text": [
      "[[28.173227 ]\n",
      " [31.371185 ]\n",
      " [20.989452 ]\n",
      " [24.414085 ]\n",
      " [17.821207 ]\n",
      " [17.370817 ]\n",
      " [13.752037 ]\n",
      " [15.37443  ]\n",
      " [20.173332 ]\n",
      " [16.467882 ]\n",
      " [22.297335 ]\n",
      " [15.299904 ]\n",
      " [ 8.149579 ]\n",
      " [15.504763 ]\n",
      " [16.241764 ]\n",
      " [21.562828 ]\n",
      " [20.104681 ]\n",
      " [11.146709 ]\n",
      " [41.92288  ]\n",
      " [16.384981 ]\n",
      " [26.576654 ]\n",
      " [25.608864 ]\n",
      " [12.0117235]\n",
      " [25.494354 ]\n",
      " [16.998    ]\n",
      " [14.980343 ]\n",
      " [17.558891 ]\n",
      " [13.285696 ]\n",
      " [22.4013   ]\n",
      " [14.704021 ]\n",
      " [20.095879 ]\n",
      " [23.898746 ]\n",
      " [21.473425 ]\n",
      " [21.806896 ]\n",
      " [14.409747 ]\n",
      " [18.295105 ]\n",
      " [34.410862 ]\n",
      " [20.533373 ]\n",
      " [23.826225 ]\n",
      " [23.450705 ]\n",
      " [12.497952 ]\n",
      " [27.8231   ]\n",
      " [43.04482  ]\n",
      " [17.69018  ]\n",
      " [28.548342 ]\n",
      " [17.494864 ]\n",
      " [13.230114 ]\n",
      " [25.311426 ]\n",
      " [17.595493 ]\n",
      " [30.936964 ]\n",
      " [16.99399  ]\n",
      " [35.288853 ]\n",
      " [14.598806 ]\n",
      " [26.231352 ]\n",
      " [41.97162  ]\n",
      " [18.156416 ]\n",
      " [19.208923 ]\n",
      " [29.935972 ]\n",
      " [26.394257 ]\n",
      " [13.56968  ]\n",
      " [22.03162  ]\n",
      " [33.772327 ]\n",
      " [29.77281  ]\n",
      " [14.441484 ]\n",
      " [24.252745 ]\n",
      " [19.500261 ]\n",
      " [18.714594 ]\n",
      " [24.090355 ]\n",
      " [28.91722  ]\n",
      " [14.044031 ]\n",
      " [21.410246 ]\n",
      " [22.536654 ]\n",
      " [11.291931 ]\n",
      " [22.106234 ]\n",
      " [17.896008 ]\n",
      " [ 7.5528173]\n",
      " [21.093012 ]\n",
      " [41.10236  ]\n",
      " [14.733731 ]\n",
      " [18.41764  ]\n",
      " [19.573675 ]\n",
      " [13.129824 ]\n",
      " [25.063997 ]\n",
      " [12.570204 ]\n",
      " [20.20555  ]\n",
      " [28.908792 ]\n",
      " [15.596798 ]\n",
      " [24.63157  ]\n",
      " [21.637253 ]\n",
      " [20.69035  ]\n",
      " [23.353998 ]\n",
      " [ 9.930261 ]\n",
      " [20.56094  ]\n",
      " [17.339994 ]\n",
      " [24.423851 ]\n",
      " [20.999708 ]\n",
      " [23.004343 ]\n",
      " [12.739343 ]\n",
      " [13.067106 ]\n",
      " [13.356348 ]\n",
      " [22.860514 ]\n",
      " [18.979147 ]]      PRICE\n",
      "173   23.6\n",
      "274   32.4\n",
      "491   13.6\n",
      "72    22.8\n",
      "452   16.1\n",
      "..     ...\n",
      "412   17.9\n",
      "436    9.6\n",
      "411   17.2\n",
      "86    22.5\n",
      "75    21.4\n",
      "\n",
      "[102 rows x 1 columns]\n"
     ]
    }
   ],
   "source": [
    "print(y_pred,y_test)"
   ]
  },
  {
   "cell_type": "code",
   "execution_count": null,
   "id": "218f1a68",
   "metadata": {},
   "outputs": [],
   "source": []
  }
 ],
 "metadata": {
  "kernelspec": {
   "display_name": "Python 3 (ipykernel)",
   "language": "python",
   "name": "python3"
  },
  "language_info": {
   "codemirror_mode": {
    "name": "ipython",
    "version": 3
   },
   "file_extension": ".py",
   "mimetype": "text/x-python",
   "name": "python",
   "nbconvert_exporter": "python",
   "pygments_lexer": "ipython3",
   "version": "3.9.16"
  }
 },
 "nbformat": 4,
 "nbformat_minor": 5
}
