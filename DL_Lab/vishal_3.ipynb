{
 "cells": [
  {
   "cell_type": "code",
   "execution_count": 57,
   "id": "5fbf6578",
   "metadata": {},
   "outputs": [],
   "source": [
    "#import librabies\n",
    "import numpy as np\n",
    "import keras\n",
    "import tensorflow as tf\n",
    "from keras.models import Sequential\n",
    "from keras.datasets import fashion_mnist"
   ]
  },
  {
   "cell_type": "code",
   "execution_count": 58,
   "id": "5ededd42",
   "metadata": {},
   "outputs": [],
   "source": [
    "#load the dataset\n",
    "(xTrain, yTrain), (xTest, yTest) = fashion_mnist.load_data()"
   ]
  },
  {
   "cell_type": "code",
   "execution_count": 59,
   "id": "5532bfbf",
   "metadata": {},
   "outputs": [
    {
     "data": {
      "text/plain": [
       "(60000, 28, 28)"
      ]
     },
     "execution_count": 59,
     "metadata": {},
     "output_type": "execute_result"
    }
   ],
   "source": [
    "xTrain.shape"
   ]
  },
  {
   "cell_type": "code",
   "execution_count": 60,
   "id": "5e47f9cf",
   "metadata": {},
   "outputs": [],
   "source": [
    "#reshape the input data and it's type conversion from int to float32\n",
    "xTrain = xTrain.reshape(-1, 28, 28, 1).astype('float32')/255.0\n",
    "xTest = xTest.reshape(-1, 28, 28, 1).astype('float32')/255.0\n",
    "#CNN needs channels so that's why (28,28,1) also it's gray scale image that why channel=1"
   ]
  },
  {
   "cell_type": "code",
   "execution_count": 61,
   "id": "2391db47",
   "metadata": {},
   "outputs": [],
   "source": [
    "yTrain = keras.utils.to_categorical(yTrain)\n",
    "yTest = keras.utils.to_categorical(yTest)\n",
    "#convert the integer values to their one-hot encoded representation(means to binary repre. where each label is 0 or 1)"
   ]
  },
  {
   "cell_type": "code",
   "execution_count": 62,
   "id": "9c9ca8f6",
   "metadata": {},
   "outputs": [
    {
     "data": {
      "text/plain": [
       "array([[0., 0., 0., ..., 0., 0., 1.],\n",
       "       [1., 0., 0., ..., 0., 0., 0.],\n",
       "       [1., 0., 0., ..., 0., 0., 0.],\n",
       "       ...,\n",
       "       [0., 0., 0., ..., 0., 0., 0.],\n",
       "       [1., 0., 0., ..., 0., 0., 0.],\n",
       "       [0., 0., 0., ..., 0., 0., 0.]], dtype=float32)"
      ]
     },
     "execution_count": 62,
     "metadata": {},
     "output_type": "execute_result"
    }
   ],
   "source": [
    "yTrain"
   ]
  },
  {
   "cell_type": "code",
   "execution_count": 63,
   "id": "ade8f0b2",
   "metadata": {},
   "outputs": [],
   "source": [
    "model = tf.keras.Sequential()\n",
    "model.add(Conv2D(32, kernel_size=(3,3), activation='relu', input_shape=(28,28,1)))\n",
    "model.add(MaxPool2D( pool_size=(2,2)))\n",
    "model.add(Conv2D(64, kernel_size=(3,3), activation='relu' ))\n",
    "model.add(MaxPool2D( pool_size=(2,2)))\n",
    "model.add(Flatten())\n",
    "model.add(Dense(128, activation='relu'))\n",
    "model.add(Dense(10, activation='softmax'))"
   ]
  },
  {
   "cell_type": "code",
   "execution_count": 64,
   "id": "c3a7837f",
   "metadata": {},
   "outputs": [],
   "source": [
    "model.compile( loss = 'categorical_crossentropy', optimizer='adam', metrics=['accuracy'])"
   ]
  },
  {
   "cell_type": "code",
   "execution_count": 65,
   "id": "326c1cb5",
   "metadata": {},
   "outputs": [
    {
     "name": "stdout",
     "output_type": "stream",
     "text": [
      "Epoch 1/5\n",
      "1875/1875 [==============================] - 50s 26ms/step - loss: 0.4419 - accuracy: 0.8394\n",
      "Epoch 2/5\n",
      "1875/1875 [==============================] - 48s 26ms/step - loss: 0.2956 - accuracy: 0.8916\n",
      "Epoch 3/5\n",
      "1875/1875 [==============================] - 47s 25ms/step - loss: 0.2485 - accuracy: 0.9085\n",
      "Epoch 4/5\n",
      "1875/1875 [==============================] - 45s 24ms/step - loss: 0.2177 - accuracy: 0.9187\n",
      "Epoch 5/5\n",
      "1875/1875 [==============================] - 46s 24ms/step - loss: 0.1927 - accuracy: 0.9273\n"
     ]
    },
    {
     "data": {
      "text/plain": [
       "<keras.callbacks.History at 0x22b130a1a00>"
      ]
     },
     "execution_count": 65,
     "metadata": {},
     "output_type": "execute_result"
    }
   ],
   "source": [
    "model.fit(xTrain, yTrain, epochs=5)"
   ]
  },
  {
   "cell_type": "code",
   "execution_count": 31,
   "id": "b9094efd",
   "metadata": {},
   "outputs": [
    {
     "name": "stdout",
     "output_type": "stream",
     "text": [
      "313/313 [==============================] - 2s 5ms/step - loss: 0.3236 - accuracy: 0.9023\n"
     ]
    },
    {
     "data": {
      "text/plain": [
       "[0.3235554099082947, 0.9023000001907349]"
      ]
     },
     "execution_count": 31,
     "metadata": {},
     "output_type": "execute_result"
    }
   ],
   "source": [
    "model.evaluate(xTest, yTest)"
   ]
  },
  {
   "cell_type": "code",
   "execution_count": 32,
   "id": "03ddc96a",
   "metadata": {},
   "outputs": [
    {
     "name": "stdout",
     "output_type": "stream",
     "text": [
      "313/313 [==============================] - 2s 5ms/step\n"
     ]
    },
    {
     "data": {
      "text/plain": [
       "array([[2.29391373e-09, 1.30897229e-11, 6.67885303e-10, 9.84254345e-10,\n",
       "        1.37905277e-11, 5.91401431e-07, 2.96936295e-11, 8.15932071e-06,\n",
       "        5.37942711e-11, 9.99991298e-01],\n",
       "       [7.52277003e-07, 1.34018527e-15, 9.99980330e-01, 2.14341956e-12,\n",
       "        1.76929843e-05, 1.50948691e-14, 1.19475658e-06, 7.16671189e-16,\n",
       "        7.79468382e-14, 2.01144978e-15],\n",
       "       [1.17727550e-10, 1.00000000e+00, 8.83795316e-13, 2.13820959e-13,\n",
       "        3.52822723e-15, 7.31992109e-17, 7.49574963e-14, 1.79182828e-23,\n",
       "        3.54540789e-12, 4.11261857e-20],\n",
       "       [1.25494832e-08, 1.00000000e+00, 7.84992693e-09, 5.22738581e-08,\n",
       "        1.56637503e-09, 1.77568694e-13, 2.93924121e-08, 1.00937335e-17,\n",
       "        1.17563175e-12, 6.75525166e-15],\n",
       "       [3.48620683e-01, 1.14641974e-09, 4.06198017e-03, 1.28341946e-06,\n",
       "        1.14252290e-03, 6.82161883e-09, 6.46173477e-01, 5.12530469e-11,\n",
       "        6.37427307e-12, 1.40918539e-08],\n",
       "       [2.12723194e-06, 9.99997139e-01, 6.83152678e-07, 1.68949941e-11,\n",
       "        1.49603840e-13, 5.06392324e-12, 5.92540114e-11, 1.82988945e-17,\n",
       "        3.85334857e-08, 2.02742228e-15],\n",
       "       [2.63031950e-07, 1.62266988e-11, 2.26273682e-04, 1.94675838e-11,\n",
       "        9.99528170e-01, 8.98658229e-16, 2.45314382e-04, 4.23380482e-15,\n",
       "        1.07989094e-14, 6.90959450e-17],\n",
       "       [1.06508614e-05, 1.59105909e-07, 2.86360882e-05, 5.68259338e-06,\n",
       "        3.88308875e-02, 5.09319534e-07, 9.61090267e-01, 5.56553368e-06,\n",
       "        2.20439179e-05, 5.52517213e-06],\n",
       "       [1.79160125e-07, 1.47618751e-10, 2.82379276e-11, 2.17910691e-13,\n",
       "        4.33706226e-09, 9.99844193e-01, 8.30817692e-10, 1.55329530e-04,\n",
       "        2.15147608e-07, 3.29939309e-13],\n",
       "       [1.06254415e-13, 4.11310153e-14, 4.62268316e-15, 2.73720920e-15,\n",
       "        1.55744639e-13, 2.21278096e-12, 1.21724934e-16, 1.00000000e+00,\n",
       "        1.32817883e-13, 1.52519378e-14]], dtype=float32)"
      ]
     },
     "execution_count": 32,
     "metadata": {},
     "output_type": "execute_result"
    }
   ],
   "source": [
    "pred_values = model.predict(xTest)\n",
    "pred_values[0:10]"
   ]
  },
  {
   "cell_type": "code",
   "execution_count": 33,
   "id": "375c4668",
   "metadata": {},
   "outputs": [],
   "source": [
    "pred_categories =  np.argmax(pred_values, axis=1)\n",
    "#pred_categories is an array that contains the predicted class labels for each input sample."
   ]
  },
  {
   "cell_type": "code",
   "execution_count": 34,
   "id": "0f8cc213",
   "metadata": {},
   "outputs": [
    {
     "data": {
      "text/plain": [
       "array([9, 2, 1, 1, 6, 1, 4, 6, 5, 7], dtype=int64)"
      ]
     },
     "execution_count": 34,
     "metadata": {},
     "output_type": "execute_result"
    }
   ],
   "source": [
    "pred_categories[0:10]"
   ]
  },
  {
   "cell_type": "code",
   "execution_count": 39,
   "id": "a623b44b",
   "metadata": {},
   "outputs": [],
   "source": [
    "test_categories= np.argmax(yTest, axis=1)"
   ]
  },
  {
   "cell_type": "code",
   "execution_count": 40,
   "id": "f68b8f18",
   "metadata": {},
   "outputs": [
    {
     "data": {
      "text/plain": [
       "array([9, 2, 1, 1, 6, 1, 4, 6, 5, 7], dtype=int64)"
      ]
     },
     "execution_count": 40,
     "metadata": {},
     "output_type": "execute_result"
    }
   ],
   "source": [
    "test_categories[0:10]"
   ]
  },
  {
   "cell_type": "code",
   "execution_count": 42,
   "id": "38686a1f",
   "metadata": {},
   "outputs": [
    {
     "data": {
      "image/png": "[encoded data removed]",
      "text/plain": [
       "<Figure size 700x700 with 9 Axes>"
      ]
     },
     "metadata": {},
     "output_type": "display_data"
    }
   ],
   "source": [
    "import matplotlib.pyplot as plt\n",
    "\n",
    "fig, axis = plt.subplots( 3, 3 , figsize=(7,7))\n",
    "num=0\n",
    "for i in range (3):\n",
    "    for j in range (3):\n",
    "        axis[i][j].imshow(xTest[num], cmap='gray')\n",
    "        num+=1"
   ]
  },
  {
   "cell_type": "code",
   "execution_count": null,
   "id": "1cda00ab",
   "metadata": {},
   "outputs": [],
   "source": [
    "# The provided code is for training a convolutional neural network (CNN) on the Fashion MNIST dataset \n",
    "# and visualizing the predictions using matplotlib. Here's an explanation of the code:\n",
    "\n",
    "# Importing the required libraries: numpy, keras, Sequential, Conv2D, MaxPool2D, Flatten, Dense, fashion_mnist, \n",
    "# and matplotlib.pyplot.Loading the Fashion MNIST dataset: fashion_mnist.load_data() loads the dataset and splits \n",
    "# it into training and test sets, assigning them to xTrain, yTrain, xTest, and yTest variables.\n",
    "# One-hot encoding the target labels: keras.utils.to_categorical(yTrain) and keras.utils.to_categorical(yTest) \n",
    "# convert the categorical labels yTrain and yTest into one-hot encoded vectors, respectively.\n",
    "\n",
    "# Creating the CNN model: model = Sequential() creates a sequential model. \n",
    "# The subsequent model.add() statements add layers to the model. The architecture includes two pairs of convolutional \n",
    "# and max pooling layers, followed by a flatten layer, and two fully connected (dense) layers. The activation functions used \n",
    "# are 'relu' for intermediate layers and 'softmax' for the output layer.\n",
    "\n",
    "# Compiling the model: model.compile() specifies the loss function ('categorical_crossentropy'), \n",
    "# optimizer ('adam'), and evaluation metric ('accuracy') for the model.\n",
    "\n",
    "# # Training the model: model.fit() trains the model on the training data (xTrain and yTrain) for a \n",
    "# specified number of epochs (10 in this case).\n",
    "\n",
    "# Evaluating the model: model.evaluate() computes the loss and accuracy of the trained model on the test data (xTest and yTest).\n",
    "\n",
    "# Predicting the categories: pred_values = model.predict(xTest) generates predictions \n",
    "# for the test data. np.argmax(pred_values, axis=1) finds the indices of the maximum values along the rows \n",
    "# (axis=1), giving the predicted categories for each sample.\n",
    "\n",
    "# Comparing the predicted and true categories: pred_categories[0:10] displays the predicted categories for the first \n",
    "# 10 test samples, and test_categories[0:10] shows the true categories for the same samples.\n",
    "\n",
    "# Visualizing the images: The last part of the code uses matplotlib to create a 3x3 grid of subplots. \n",
    "# Each subplot displays a grayscale image from the xTest dataset. The nested for loops iterate over the subplots, \n",
    "# and axis[i][j].imshow(xTest[num], cmap='gray') displays the image at the corresponding subplot. The num variable is \n",
    "# incremented to move to the next image. The resulting grid of subplots provides a visual representation of the test images."
   ]
  }
 ],
 "metadata": {
  "kernelspec": {
   "display_name": "Python 3 (ipykernel)",
   "language": "python",
   "name": "python3"
  },
  "language_info": {
   "codemirror_mode": {
    "name": "ipython",
    "version": 3
   },
   "file_extension": ".py",
   "mimetype": "text/x-python",
   "name": "python",
   "nbconvert_exporter": "python",
   "pygments_lexer": "ipython3",
   "version": "3.9.16"
  }
 },
 "nbformat": 4,
 "nbformat_minor": 5
}
